{
 "cells": [
  {
   "cell_type": "markdown",
   "metadata": {},
   "source": [
    "First the detector, laser and motor are setup along with the bluesky environment from the ophyd_inter_setup file.\n",
    "Due to the different file structure of the Jupyter notebook the read path must be updated.\n",
    "An error related to caRepeater will likely appear, this is not a concern."
   ]
  },
  {
   "cell_type": "code",
   "execution_count": null,
   "metadata": {},
   "outputs": [],
   "source": [
    "from ophyd_inter_setup import *\n",
    "det.hdf1.read_path_template =  \"/home/jovyan/data/%Y/%m/%d/\"  "
   ]
  },
  {
   "cell_type": "markdown",
   "metadata": {},
   "source": [
    "The synced scan can then be run. This example scans in 11 steps between -10 and +10."
   ]
  },
  {
   "cell_type": "code",
   "execution_count": null,
   "metadata": {},
   "outputs": [],
   "source": [
    "uids = RE(pulse_sync([det], motor1, laser1, -10, 10, 11))"
   ]
  },
  {
   "cell_type": "markdown",
   "metadata": {},
   "source": [
    "To access the data stored in the databroker catalog run the following:"
   ]
  },
  {
   "cell_type": "code",
   "execution_count": null,
   "metadata": {},
   "outputs": [],
   "source": [
    "run = catalog[uids[0]] #Accesses the run based on its uid, the most recent run can also be accessed as catalog[-1]\n",
    "data = run.primary.read()\n",
    "data"
   ]
  },
  {
   "cell_type": "markdown",
   "metadata": {},
   "source": [
    "The image data is accessed as shown below."
   ]
  },
  {
   "cell_type": "code",
   "execution_count": null,
   "metadata": {},
   "outputs": [],
   "source": [
    "image = data[\"det_image\"]\n",
    "frame = image[0][0]  # Index 1 refers to the time of the image and the second index refers to the frame number\n",
    "frame.plot.pcolormesh()"
   ]
  }
 ],
 "metadata": {
  "kernelspec": {
   "display_name": "Python 3 (ipykernel)",
   "language": "python",
   "name": "python3"
  },
  "language_info": {
   "codemirror_mode": {
    "name": "ipython",
    "version": 3
   },
   "file_extension": ".py",
   "mimetype": "text/x-python",
   "name": "python",
   "nbconvert_exporter": "python",
   "pygments_lexer": "ipython3",
   "version": "3.10.12"
  }
 },
 "nbformat": 4,
 "nbformat_minor": 4
}
